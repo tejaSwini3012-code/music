{
 "cells": [
  {
   "cell_type": "code",
   "execution_count": 23,
   "id": "45a06548-7094-41e0-ba7f-c221d668f7c7",
   "metadata": {},
   "outputs": [],
   "source": [
    "from pathlib import Path\n",
    "from typing import Tuple, List\n",
    "\n",
    "import implicit\n",
    "import scipy\n",
    "import numpy as np\n",
    "\n"
   ]
  },
  {
   "cell_type": "code",
   "execution_count": 24,
   "id": "9d2c2c01-0f71-41a2-9a7e-4fff93094f6b",
   "metadata": {},
   "outputs": [],
   "source": [
    "import import_ipynb\n",
    "from musicdata import load_user_artists, ArtistRetriever"
   ]
  },
  {
   "cell_type": "code",
   "execution_count": 25,
   "id": "c9f4d56a-80ee-41cb-84bd-e978be7bb194",
   "metadata": {},
   "outputs": [],
   "source": [
    "class ImplicitRecommender:\n",
    "    \"\"\"The ImplicitRecommender class computes recommendations for a given user\n",
    "    using the implicit library.\n",
    "\n",
    "    Attributes:\n",
    "        - artist_retriever: an ArtistRetriever instance\n",
    "        - implicit_model: an implicit model\n",
    "    \"\"\"\n",
    "\n",
    "    def __init__(\n",
    "        self,\n",
    "        artist_retriever: ArtistRetriever,\n",
    "        implicit_model: implicit.recommender_base.RecommenderBase,\n",
    "    ):\n",
    "        self.artist_retriever = artist_retriever\n",
    "        self.implicit_model = implicit_model\n",
    "\n",
    "    def fit(self, user_artists_matrix: scipy.sparse.csr_matrix) -> None:\n",
    "        \"\"\"Fit the model to the user artists matrix.\"\"\"\n",
    "        self.implicit_model.fit(user_artists_matrix)\n",
    "    def recommend(self,user_id: int,user_artists_matrix: scipy.sparse.csr_matrix,n: int = 10,) -> Tuple[List[str], List[float]]:\n",
    "        \"\"\"Return the top n recommendations for the given user.\"\"\"\n",
    "        artist_ids, scores = self.implicit_model.recommend(user_id, user_artists_matrix[n], N=n)\n",
    "        artists = [self.artist_retriever.get_artist_name_from_id(artist_id) for artist_id in artist_ids]\n",
    "        return artists, scores\n"
   ]
  },
  {
   "cell_type": "code",
   "execution_count": 31,
   "id": "0e1a5349-d949-4582-bacc-845de27cf97e",
   "metadata": {},
   "outputs": [
    {
     "data": {
      "application/vnd.jupyter.widget-view+json": {
       "model_id": "b54e4bbdb8a34ad1810eef1be5a7bb81",
       "version_major": 2,
       "version_minor": 0
      },
      "text/plain": [
       "  0%|          | 0/10 [00:00<?, ?it/s]"
      ]
     },
     "metadata": {},
     "output_type": "display_data"
    },
    {
     "name": "stdout",
     "output_type": "stream",
     "text": [
      "Timbaland: 1.2841777801513672\n",
      "Nickelback: 1.2239378690719604\n",
      "David Guetta: 1.1874375343322754\n",
      "Black Eyed Peas: 1.1581635475158691\n",
      "Evanescence: 1.1278562545776367\n",
      "The Fray: 1.123131275177002\n",
      "T.I.: 1.1107820272445679\n",
      "Cobra Starship: 1.093575358390808\n",
      "McFly: 1.0849380493164062\n",
      "Jason Mraz: 1.0778847932815552\n"
     ]
    }
   ],
   "source": [
    "if __name__ == \"__main__\":\n",
    "   \n",
    "\n",
    "\n",
    "    # load user artists matrix\n",
    "    user_artists = load_user_artists(\"user_artists.dat\")\n",
    "\n",
    "    # instantiate artist retriever\n",
    "    artist_retriever = ArtistRetriever()\n",
    "    artist_retriever.load_artists(\"artists.dat\")\n",
    "\n",
    "    # instantiate ALS using implicit\n",
    "    implict_model = implicit.als.AlternatingLeastSquares(factors=50, iterations=10, regularization=0.01)\n",
    "\n",
    "    # instantiate recommender, fit, and recommend\n",
    "    recommender = ImplicitRecommender(artist_retriever, implict_model)\n",
    "    recommender.fit(user_artists)\n",
    "    artists, scores = recommender.recommend(11, user_artists, n=10)\n",
    "\n",
    "    # print results\n",
    "    for artist, score in zip(artists, scores):\n",
    "        print(f\"{artist}: {score}\")"
   ]
  },
  {
   "cell_type": "code",
   "execution_count": null,
   "id": "947a5eea-7606-4c31-9ddd-b6803187d8fa",
   "metadata": {},
   "outputs": [],
   "source": []
  },
  {
   "cell_type": "code",
   "execution_count": null,
   "id": "b64d327b-b6c8-428a-966c-6e139533d0b4",
   "metadata": {},
   "outputs": [],
   "source": []
  }
 ],
 "metadata": {
  "kernelspec": {
   "display_name": "Python 3 (ipykernel)",
   "language": "python",
   "name": "python3"
  },
  "language_info": {
   "codemirror_mode": {
    "name": "ipython",
    "version": 3
   },
   "file_extension": ".py",
   "mimetype": "text/x-python",
   "name": "python",
   "nbconvert_exporter": "python",
   "pygments_lexer": "ipython3",
   "version": "3.11.7"
  }
 },
 "nbformat": 4,
 "nbformat_minor": 5
}
