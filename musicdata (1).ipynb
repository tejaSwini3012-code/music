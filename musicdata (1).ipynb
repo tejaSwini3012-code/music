{
 "cells": [
  {
   "cell_type": "code",
   "execution_count": 25,
   "id": "edbd2a21-2c54-48e1-be85-8ad73d9d648c",
   "metadata": {},
   "outputs": [],
   "source": [
    "from pathlib import Path\n",
    "import scipy\n",
    "import pandas as pd\n"
   ]
  },
  {
   "cell_type": "code",
   "execution_count": 26,
   "id": "7c360101-9b0c-4471-acc4-6ec32073b900",
   "metadata": {},
   "outputs": [],
   "source": [
    "def load_user_artists(user_artists_file: Path) -> scipy.sparse.csr_matrix:\n",
    "    \"\"\"Load the user artists file and return a user-artists matrix in csr\n",
    "    fromat.\n",
    "    \"\"\"\n",
    "    user_artists = pd.read_csv(user_artists_file, sep=\"\\t\")\n",
    "    user_artists.set_index([\"userID\", \"artistID\"], inplace=True)\n",
    "    coo = scipy.sparse.coo_matrix(\n",
    "        (\n",
    "            user_artists.weight.astype(float),\n",
    "            (\n",
    "                user_artists.index.get_level_values(0),\n",
    "                user_artists.index.get_level_values(1),\n",
    "            ),\n",
    "        )\n",
    "    )\n",
    "    return coo.tocsr()"
   ]
  },
  {
   "cell_type": "code",
   "execution_count": 27,
   "id": "c7b32847-ee26-4f46-9b86-2b3ea2799565",
   "metadata": {},
   "outputs": [],
   "source": [
    "class ArtistRetriever:\n",
    "    \"\"\"The ArtistRetriever class gets the artist name from the artist ID.\"\"\"\n",
    "\n",
    "    def __init__(self):\n",
    "        self._artists_df = None\n",
    "\n",
    "    def get_artist_name_from_id(self, artist_id: int) -> str:\n",
    "        \"\"\"Return the artist name from the artist ID.\"\"\"\n",
    "        return self._artists_df.loc[artist_id, \"name\"]\n",
    "\n",
    "    def load_artists(self, artists_file: Path) -> None:\n",
    "        \"\"\"Load the artists file and stores it as a Pandas dataframe in a\n",
    "        private attribute.\n",
    "        \"\"\"\n",
    "        artists_df = pd.read_csv(artists_file, sep=\"\\t\")\n",
    "        artists_df = artists_df.set_index(\"id\")\n",
    "        self._artists_df = artists_df"
   ]
  },
  {
   "cell_type": "code",
   "execution_count": 32,
   "id": "2e584553-a3eb-419f-b563-3780d0fdccf4",
   "metadata": {},
   "outputs": [
    {
     "name": "stdout",
     "output_type": "stream",
     "text": [
      "  (2, 51)\t13883.0\n",
      "  (2, 52)\t11690.0\n",
      "  (2, 53)\t11351.0\n",
      "  (2, 54)\t10300.0\n",
      "  (2, 55)\t8983.0\n",
      "  (2, 56)\t6152.0\n",
      "  (2, 57)\t5955.0\n",
      "  (2, 58)\t4616.0\n",
      "  (2, 59)\t4337.0\n",
      "  (2, 60)\t4147.0\n",
      "  (2, 61)\t3923.0\n",
      "  (2, 62)\t3782.0\n",
      "  (2, 63)\t3735.0\n",
      "  (2, 64)\t3644.0\n",
      "  (2, 65)\t3579.0\n",
      "  (2, 66)\t3312.0\n",
      "  (2, 67)\t3301.0\n",
      "  (2, 68)\t2927.0\n",
      "  (2, 69)\t2720.0\n",
      "  (2, 70)\t2686.0\n",
      "  (2, 71)\t2654.0\n",
      "  (2, 72)\t2619.0\n",
      "  (2, 73)\t2584.0\n",
      "  (2, 74)\t2547.0\n",
      "  (2, 75)\t2397.0\n",
      "  :\t:\n",
      "  (2100, 8320)\t284.0\n",
      "  (2100, 8322)\t650.0\n",
      "  (2100, 8323)\t456.0\n",
      "  (2100, 8324)\t1068.0\n",
      "  (2100, 8326)\t626.0\n",
      "  (2100, 8327)\t613.0\n",
      "  (2100, 8332)\t655.0\n",
      "  (2100, 8344)\t640.0\n",
      "  (2100, 8525)\t232.0\n",
      "  (2100, 8529)\t429.0\n",
      "  (2100, 8531)\t607.0\n",
      "  (2100, 8533)\t724.0\n",
      "  (2100, 9783)\t793.0\n",
      "  (2100, 10008)\t228.0\n",
      "  (2100, 10894)\t705.0\n",
      "  (2100, 13677)\t278.0\n",
      "  (2100, 13679)\t346.0\n",
      "  (2100, 13978)\t535.0\n",
      "  (2100, 16437)\t443.0\n",
      "  (2100, 18725)\t758.0\n",
      "  (2100, 18726)\t337.0\n",
      "  (2100, 18727)\t297.0\n",
      "  (2100, 18728)\t281.0\n",
      "  (2100, 18729)\t280.0\n",
      "  (2100, 18730)\t263.0\n",
      "Behemoth\n"
     ]
    }
   ],
   "source": [
    "if __name__ == \"__main__\":\n",
    "    user_artists_matrix = load_user_artists(\"user_artists.dat\")\n",
    "    print(user_artists_matrix)\n",
    "\n",
    "    artist_retriever = ArtistRetriever()\n",
    "    artist_retriever.load_artists(\"artists.dat\")\n",
    "    artist = artist_retriever.get_artist_name_from_id(12)\n",
    "    print(artist)"
   ]
  },
  {
   "cell_type": "code",
   "execution_count": null,
   "id": "a88f6bee-5727-4787-96b9-99a470e3d1a5",
   "metadata": {},
   "outputs": [],
   "source": []
  },
  {
   "cell_type": "code",
   "execution_count": null,
   "id": "a9507899-ec71-4695-959f-70bd18b796a8",
   "metadata": {},
   "outputs": [],
   "source": []
  },
  {
   "cell_type": "code",
   "execution_count": null,
   "id": "17c8f5f6-bbd0-41f4-9707-bce7da13d484",
   "metadata": {},
   "outputs": [],
   "source": []
  },
  {
   "cell_type": "code",
   "execution_count": null,
   "id": "a2594daa-97f6-41d0-ba21-685c9037f725",
   "metadata": {},
   "outputs": [],
   "source": []
  },
  {
   "cell_type": "code",
   "execution_count": null,
   "id": "c2c0dc2a-dfed-446d-bd06-dee2e90b7d0b",
   "metadata": {},
   "outputs": [],
   "source": []
  },
  {
   "cell_type": "code",
   "execution_count": null,
   "id": "7a8ed092-0b38-480a-9b82-4faf929949d4",
   "metadata": {},
   "outputs": [],
   "source": []
  }
 ],
 "metadata": {
  "kernelspec": {
   "display_name": "Python 3 (ipykernel)",
   "language": "python",
   "name": "python3"
  },
  "language_info": {
   "codemirror_mode": {
    "name": "ipython",
    "version": 3
   },
   "file_extension": ".py",
   "mimetype": "text/x-python",
   "name": "python",
   "nbconvert_exporter": "python",
   "pygments_lexer": "ipython3",
   "version": "3.11.7"
  }
 },
 "nbformat": 4,
 "nbformat_minor": 5
}
