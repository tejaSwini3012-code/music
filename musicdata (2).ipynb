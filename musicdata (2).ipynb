{
 "cells": [
  {
   "cell_type": "code",
   "execution_count": 25,
   "id": "edbd2a21-2c54-48e1-be85-8ad73d9d648c",
   "metadata": {},
   "outputs": [],
   "source": [
    "from pathlib import Path\n",
    "import scipy\n",
    "import pandas as pd\n"
   ]
  },
  {
   "cell_type": "code",
   "execution_count": 26,
   "id": "7c360101-9b0c-4471-acc4-6ec32073b900",
   "metadata": {},
   "outputs": [],
   "source": [
    "def load_user_artists(user_artists_file: Path) -> scipy.sparse.csr_matrix:\n",
    "    \"\"\"Load the user artists file and return a user-artists matrix in csr\n",
    "    fromat.\n",
    "    \"\"\"\n",
    "    user_artists = pd.read_csv(user_artists_file, sep=\"\\t\")\n",
    "    user_artists.set_index([\"userID\", \"artistID\"], inplace=True)\n",
    "    coo = scipy.sparse.coo_matrix(\n",
    "        (\n",
    "            user_artists.weight.astype(float),\n",
    "            (\n",
    "                user_artists.index.get_level_values(0),\n",
    "                user_artists.index.get_level_values(1),\n",
    "            ),\n",
    "        )\n",
    "    )\n",
    "    return coo.tocsr()"
   ]
  },
  {
   "cell_type": "code",
   "execution_count": 27,
   "id": "c7b32847-ee26-4f46-9b86-2b3ea2799565",
   "metadata": {},
   "outputs": [],
   "source": [
    "class ArtistRetriever:\n",
    "    \"\"\"The ArtistRetriever class gets the artist name from the artist ID.\"\"\"\n",
    "\n",
    "    def __init__(self):\n",
    "        self._artists_df = None\n",
    "\n",
    "    def get_artist_name_from_id(self, artist_id: int) -> str:\n",
    "        \"\"\"Return the artist name from the artist ID.\"\"\"\n",
    "        return self._artists_df.loc[artist_id, \"name\"]\n",
    "\n",
    "    def load_artists(self, artists_file: Path) -> None:\n",
    "        \"\"\"Load the artists file and stores it as a Pandas dataframe in a\n",
    "        private attribute.\n",
    "        \"\"\"\n",
    "        artists_df = pd.read_csv(artists_file, sep=\"\\t\")\n",
    "        artists_df = artists_df.set_index(\"id\")\n",
    "        self._artists_df = artists_df"
   ]
  },
  {
   "cell_type": "code",
   "execution_count": 33,
   "id": "2e584553-a3eb-419f-b563-3780d0fdccf4",
   "metadata": {},
   "outputs": [
    {
     "name": "stdout",
     "output_type": "stream",
     "text": [
      "Behemoth\n"
     ]
    }
   ],
   "source": [
    "if __name__ == \"__main__\":\n",
    "    #user_artists_matrix = load_user_artists(\"user_artists.dat\")\n",
    "    #print(user_artists_matrix)\n",
    "\n",
    "    artist_retriever = ArtistRetriever()\n",
    "    artist_retriever.load_artists(\"artists.dat\")\n",
    "    artist = artist_retriever.get_artist_name_from_id(12)\n",
    "    print(artist)"
   ]
  },
  {
   "cell_type": "code",
   "execution_count": null,
   "id": "a88f6bee-5727-4787-96b9-99a470e3d1a5",
   "metadata": {},
   "outputs": [],
   "source": []
  },
  {
   "cell_type": "code",
   "execution_count": null,
   "id": "a9507899-ec71-4695-959f-70bd18b796a8",
   "metadata": {},
   "outputs": [],
   "source": []
  },
  {
   "cell_type": "code",
   "execution_count": null,
   "id": "17c8f5f6-bbd0-41f4-9707-bce7da13d484",
   "metadata": {},
   "outputs": [],
   "source": []
  },
  {
   "cell_type": "code",
   "execution_count": null,
   "id": "a2594daa-97f6-41d0-ba21-685c9037f725",
   "metadata": {},
   "outputs": [],
   "source": []
  },
  {
   "cell_type": "code",
   "execution_count": null,
   "id": "c2c0dc2a-dfed-446d-bd06-dee2e90b7d0b",
   "metadata": {},
   "outputs": [],
   "source": []
  },
  {
   "cell_type": "code",
   "execution_count": null,
   "id": "7a8ed092-0b38-480a-9b82-4faf929949d4",
   "metadata": {},
   "outputs": [],
   "source": []
  }
 ],
 "metadata": {
  "kernelspec": {
   "display_name": "Python 3 (ipykernel)",
   "language": "python",
   "name": "python3"
  },
  "language_info": {
   "codemirror_mode": {
    "name": "ipython",
    "version": 3
   },
   "file_extension": ".py",
   "mimetype": "text/x-python",
   "name": "python",
   "nbconvert_exporter": "python",
   "pygments_lexer": "ipython3",
   "version": "3.11.7"
  }
 },
 "nbformat": 4,
 "nbformat_minor": 5
}
